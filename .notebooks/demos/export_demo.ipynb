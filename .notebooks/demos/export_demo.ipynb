{
 "cells": [
  {
   "cell_type": "markdown",
   "metadata": {},
   "source": [
    "# Export Functionality Demo\n",
    "\n",
    "This notebook demonstrates the enhanced export functionality for DIP_SMC_PSO simulations.\n",
    "\n",
    "## Features\n",
    "- Export simulation data in multiple formats (CSV, NumPy, JSON)\n",
    "- Save plots in high resolution (PNG, PDF)\n",
    "- Generate comprehensive analysis reports\n",
    "- Organize exports with automatic timestamping"
   ]
  },
  {
   "cell_type": "code",
   "execution_count": null,
   "metadata": {},
   "outputs": [],
   "source": "# Standard imports\nimport numpy as np\nimport matplotlib.pyplot as plt\nimport sys\nfrom pathlib import Path\n\n# Add src to path for imports\nproject_root = Path().absolute().parent\nsys.path.insert(0, str(project_root / 'src'))\n\n# Project imports\nfrom src.config import load_config\nfrom controllers.factory import create_controller\nfrom core.dynamics import DIPDynamics\nfrom core.simulation_runner import run_simulation\nfrom utils.visualization import Visualizer\nfrom utils.notebook_export import NotebookExporter, quick_export_simulation, quick_analysis_report\n\nprint(\"✅ All imports successful!\")"
  },
  {
   "cell_type": "markdown",
   "metadata": {},
   "source": [
    "## 1. Run a Sample Simulation"
   ]
  },
  {
   "cell_type": "code",
   "execution_count": null,
   "metadata": {},
   "outputs": [],
   "source": [
    "# Load configuration\n",
    "config = load_config('../config.yaml')\n",
    "\n",
    "# Create dynamics and controller\n",
    "dynamics = DIPDynamics(config.dip_params)\n",
    "controller = create_controller('classical_smc', config)\n",
    "\n",
    "# Set initial conditions (small perturbation)\n",
    "initial_state = np.array([0.1, 0.1, -0.1, 0.0, 0.0, 0.0])\n",
    "\n",
    "# Run simulation\n",
    "t, x, u = run_simulation(\n",
    "    dynamics, controller,\n",
    "    initial_state=initial_state,\n",
    "    duration=5.0,\n",
    "    dt=0.01\n",
    ")\n",
    "\n",
    "print(f\"✅ Simulation completed: {len(t)} time steps over {t[-1]:.1f} seconds\")\n",
    "print(f\"   Final position: {x[-1, 0]:.4f} m\")\n",
    "print(f\"   Final angles: θ₁={np.rad2deg(x[-1, 1]):.2f}°, θ₂={np.rad2deg(x[-1, 2]):.2f}°\")"
   ]
  },
  {
   "cell_type": "markdown",
   "metadata": {},
   "source": [
    "## 2. Create Visualizations"
   ]
  },
  {
   "cell_type": "code",
   "execution_count": null,
   "metadata": {},
   "outputs": [],
   "source": [
    "# Create state plots\n",
    "fig1, axes = plt.subplots(3, 1, figsize=(12, 8))\n",
    "\n",
    "# Position\n",
    "axes[0].plot(t, x[:, 0], 'b-', linewidth=2)\n",
    "axes[0].set_ylabel('Position (m)')\n",
    "axes[0].grid(True, alpha=0.3)\n",
    "axes[0].set_title('Classical SMC Control Performance')\n",
    "\n",
    "# Angles\n",
    "axes[1].plot(t, np.rad2deg(x[:, 1]), 'r-', linewidth=2, label='θ₁')\n",
    "axes[1].plot(t, np.rad2deg(x[:, 2]), 'g-', linewidth=2, label='θ₂')\n",
    "axes[1].set_ylabel('Angle (degrees)')\n",
    "axes[1].legend()\n",
    "axes[1].grid(True, alpha=0.3)\n",
    "\n",
    "# Control input\n",
    "axes[2].plot(t[:-1], u, 'k-', linewidth=2)\n",
    "axes[2].set_ylabel('Control Force (N)')\n",
    "axes[2].set_xlabel('Time (s)')\n",
    "axes[2].grid(True, alpha=0.3)\n",
    "\n",
    "plt.tight_layout()\n",
    "plt.show()"
   ]
  },
  {
   "cell_type": "code",
   "execution_count": null,
   "metadata": {},
   "outputs": [],
   "source": [
    "# Create phase space plot\n",
    "fig2, axes = plt.subplots(1, 2, figsize=(12, 5))\n",
    "\n",
    "# Link 1 phase space\n",
    "axes[0].plot(np.rad2deg(x[:, 1]), np.rad2deg(x[:, 4]), 'r-', alpha=0.7, linewidth=2)\n",
    "axes[0].set_xlabel('θ₁ (degrees)')\n",
    "axes[0].set_ylabel('θ̇₁ (degrees/s)')\n",
    "axes[0].set_title('Link 1 Phase Space')\n",
    "axes[0].grid(True, alpha=0.3)\n",
    "\n",
    "# Link 2 phase space\n",
    "axes[1].plot(np.rad2deg(x[:, 2]), np.rad2deg(x[:, 5]), 'g-', alpha=0.7, linewidth=2)\n",
    "axes[1].set_xlabel('θ₂ (degrees)')\n",
    "axes[1].set_ylabel('θ̇₂ (degrees/s)')\n",
    "axes[1].set_title('Link 2 Phase Space')\n",
    "axes[1].grid(True, alpha=0.3)\n",
    "\n",
    "plt.tight_layout()\n",
    "plt.show()"
   ]
  },
  {
   "cell_type": "markdown",
   "metadata": {},
   "source": [
    "## 3. Export Data and Plots"
   ]
  },
  {
   "cell_type": "code",
   "execution_count": null,
   "metadata": {},
   "outputs": [],
   "source": [
    "# Initialize exporter\n",
    "exporter = NotebookExporter(base_dir=\"../exports\")\n",
    "\n",
    "# Export simulation data with metadata\n",
    "metadata = {\n",
    "    \"controller_type\": \"classical_smc\",\n",
    "    \"gains\": controller.gains.tolist(),\n",
    "    \"initial_conditions\": initial_state.tolist(),\n",
    "    \"simulation_duration\": float(t[-1]),\n",
    "    \"timestep\": float(t[1] - t[0]),\n",
    "    \"dynamics_model\": \"simplified\"\n",
    "}\n",
    "\n",
    "data_zip = exporter.export_simulation_data(\n",
    "    time=t, \n",
    "    states=x, \n",
    "    controls=u, \n",
    "    metadata=metadata,\n",
    "    prefix=\"classical_smc_demo\"\n",
    ")"
   ]
  },
  {
   "cell_type": "code",
   "execution_count": null,
   "metadata": {},
   "outputs": [],
   "source": [
    "# Export plots in multiple formats\n",
    "plot_dir = exporter.export_plots(\n",
    "    figures=[fig1, fig2],\n",
    "    names=[\"time_series\", \"phase_space\"],\n",
    "    prefix=\"classical_smc_plots\",\n",
    "    formats=[\"png\", \"pdf\"]\n",
    ")"
   ]
  },
  {
   "cell_type": "markdown",
   "metadata": {},
   "source": [
    "## 4. Generate Comprehensive Analysis Report"
   ]
  },
  {
   "cell_type": "code",
   "execution_count": null,
   "metadata": {},
   "outputs": [],
   "source": [
    "# Create a comprehensive analysis report\n",
    "report_path = exporter.create_analysis_report(\n",
    "    time=t,\n",
    "    states=x, \n",
    "    controls=u,\n",
    "    metadata=metadata,\n",
    "    prefix=\"classical_smc_analysis\"\n",
    ")\n",
    "\n",
    "print(f\"📊 Open the report: {report_path}\")"
   ]
  },
  {
   "cell_type": "markdown",
   "metadata": {},
   "source": [
    "## 5. Quick Export Functions\n",
    "\n",
    "For convenience, you can also use the quick export functions:"
   ]
  },
  {
   "cell_type": "code",
   "execution_count": null,
   "metadata": {},
   "outputs": [],
   "source": [
    "# Quick data export\n",
    "quick_data_zip = quick_export_simulation(\n",
    "    t, x, u, \n",
    "    metadata={\"method\": \"quick_export\"}, \n",
    "    prefix=\"quick_demo\"\n",
    ")\n",
    "\n",
    "# Quick analysis report\n",
    "quick_report = quick_analysis_report(\n",
    "    t, x, u,\n",
    "    metadata={\"method\": \"quick_analysis\"},\n",
    "    prefix=\"quick_analysis\"\n",
    ")"
   ]
  },
  {
   "cell_type": "markdown",
   "metadata": {},
   "source": [
    "## 6. Advanced Visualization Export\n",
    "\n",
    "Demonstrate the enhanced Visualizer class with export capabilities:"
   ]
  },
  {
   "cell_type": "code",
   "execution_count": null,
   "metadata": {},
   "outputs": [],
   "source": [
    "# Create enhanced visualizations\n",
    "vis = Visualizer(dynamics)\n",
    "\n",
    "# Create static snapshot\n",
    "vis.save_static_plot(\n",
    "    state_history=x,\n",
    "    filename=\"../exports/final_state_snapshot.png\",\n",
    "    time_step=-1,  # Final state\n",
    "    dpi=300\n",
    ")\n",
    "\n",
    "# Create phase plot\n",
    "phase_fig = vis.create_phase_plot(\n",
    "    state_history=x,\n",
    "    filename=\"../exports/enhanced_phase_plot.png\",\n",
    "    dpi=300\n",
    ")\n",
    "\n",
    "# Display the phase plot\n",
    "plt.show()"
   ]
  },
  {
   "cell_type": "markdown",
   "metadata": {},
   "source": [
    "## 7. Animation Export (Optional)\n",
    "\n",
    "Create and save an animation of the pendulum motion:"
   ]
  },
  {
   "cell_type": "code",
   "execution_count": null,
   "metadata": {},
   "outputs": [],
   "source": [
    "# Create animation (subsample for faster rendering)\n",
    "subsample = slice(None, None, 5)  # Every 5th frame\n",
    "ani = vis.animate(\n",
    "    time_history=t[subsample],\n",
    "    state_history=x[subsample],\n",
    "    control_history=u[subsample[:-1]] if len(u) == len(t)-1 else u[subsample],\n",
    "    dt=0.05  # 20 FPS\n",
    ")\n",
    "\n",
    "# Save as MP4 (requires ffmpeg)\n",
    "try:\n",
    "    vis.save_animation(\"../exports/pendulum_animation.mp4\", fps=20, bitrate=1800)\n",
    "except Exception as e:\n",
    "    print(f\"⚠️  Animation export failed (ffmpeg might not be installed): {e}\")\n",
    "    print(\"💡 Install ffmpeg to enable MP4 export\")\n",
    "\n",
    "# Save as GIF (more compatible)\n",
    "try:\n",
    "    vis.save_animation(\"../exports/pendulum_animation.gif\", fps=10)\n",
    "    print(\"✅ Animation saved as GIF\")\n",
    "except Exception as e:\n",
    "    print(f\"⚠️  GIF export failed: {e}\")"
   ]
  },
  {
   "cell_type": "markdown",
   "metadata": {},
   "source": [
    "## Summary\n",
    "\n",
    "This notebook demonstrated:\n",
    "\n",
    "1. **Data Export**: Simulation results in CSV, NumPy, and JSON formats\n",
    "2. **Plot Export**: High-resolution plots in PNG and PDF formats\n",
    "3. **Analysis Reports**: Comprehensive HTML reports with statistics and visualizations\n",
    "4. **Animation Export**: MP4 and GIF animations of pendulum motion\n",
    "5. **Quick Functions**: Convenient one-line export functions\n",
    "6. **Enhanced Visualizations**: Static snapshots and phase space plots\n",
    "\n",
    "All exports are automatically organized with timestamps and can be easily shared or used for further analysis.\n",
    "\n",
    "### Files Created:\n",
    "- `exports/classical_smc_demo_YYYYMMDD_HHMMSS.zip` - Complete simulation data\n",
    "- `exports/classical_smc_plots_YYYYMMDD_HHMMSS/` - Plot files\n",
    "- `exports/classical_smc_analysis_report_YYYYMMDD_HHMMSS.html` - Analysis report\n",
    "- `exports/final_state_snapshot.png` - Static pendulum visualization\n",
    "- `exports/enhanced_phase_plot.png` - Phase space analysis\n",
    "- `exports/pendulum_animation.mp4` or `.gif` - Animation (if supported)"
   ]
  }
 ],
 "metadata": {
  "kernelspec": {
   "display_name": "Python 3",
   "language": "python",
   "name": "python3"
  },
  "language_info": {
   "codemirror_mode": {
    "name": "ipython",
    "version": 3
   },
   "file_extension": ".py",
   "mimetype": "text/x-python",
   "name": "python",
   "nbconvert_exporter": "python",
   "pygments_lexer": "ipython3",
   "version": "3.9.0"
  }
 },
 "nbformat": 4,
 "nbformat_minor": 4
}